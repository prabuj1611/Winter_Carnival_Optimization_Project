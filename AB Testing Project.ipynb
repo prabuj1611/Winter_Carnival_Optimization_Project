{
 "cells": [
  {
   "cell_type": "code",
   "execution_count": 1,
   "id": "9addf212-877b-4ae8-a515-ac2277f13128",
   "metadata": {},
   "outputs": [],
   "source": [
    "import pandas as pd\n",
    "import seaborn as sns\n",
    "import matplotlib.pyplot as plt\n",
    "import scipy.stats as stats\n",
    "from scipy.stats import chisquare"
   ]
  },
  {
   "cell_type": "markdown",
   "id": "4890bc28-0aff-4070-b496-8e8698fc8d77",
   "metadata": {},
   "source": [
    "# Summary Statistics and Creating a new Column (Impact)"
   ]
  },
  {
   "cell_type": "code",
   "execution_count": 3,
   "id": "b38d715d-11f8-45c0-9a4d-2e9db049d908",
   "metadata": {},
   "outputs": [
    {
     "data": {
      "text/html": [
       "<div>\n",
       "<style scoped>\n",
       "    .dataframe tbody tr th:only-of-type {\n",
       "        vertical-align: middle;\n",
       "    }\n",
       "\n",
       "    .dataframe tbody tr th {\n",
       "        vertical-align: top;\n",
       "    }\n",
       "\n",
       "    .dataframe thead th {\n",
       "        text-align: right;\n",
       "    }\n",
       "</style>\n",
       "<table border=\"1\" class=\"dataframe\">\n",
       "  <thead>\n",
       "    <tr style=\"text-align: right;\">\n",
       "      <th></th>\n",
       "      <th>Email_ID</th>\n",
       "      <th>Photo_Name</th>\n",
       "      <th>Open_Rate</th>\n",
       "      <th>Click_Through_Rate</th>\n",
       "      <th>Conversion</th>\n",
       "      <th>Engagement_Time</th>\n",
       "      <th>Bounce_Rate</th>\n",
       "      <th>Recipient_Age_Group</th>\n",
       "      <th>Device_Type</th>\n",
       "      <th>Photo_Rating</th>\n",
       "      <th>Time_of_Day</th>\n",
       "      <th>Season_Pass_Holder</th>\n",
       "    </tr>\n",
       "  </thead>\n",
       "  <tbody>\n",
       "    <tr>\n",
       "      <th>0</th>\n",
       "      <td>1</td>\n",
       "      <td>Elf Point</td>\n",
       "      <td>No</td>\n",
       "      <td>Yes</td>\n",
       "      <td>No</td>\n",
       "      <td>73.0</td>\n",
       "      <td>Yes</td>\n",
       "      <td>45-54</td>\n",
       "      <td>Desktop</td>\n",
       "      <td>8</td>\n",
       "      <td>Morning</td>\n",
       "      <td>Yes</td>\n",
       "    </tr>\n",
       "    <tr>\n",
       "      <th>1</th>\n",
       "      <td>2</td>\n",
       "      <td>Elf Point</td>\n",
       "      <td>Yes</td>\n",
       "      <td>Yes</td>\n",
       "      <td>Yes</td>\n",
       "      <td>30.8</td>\n",
       "      <td>Yes</td>\n",
       "      <td>45-54</td>\n",
       "      <td>Mobile</td>\n",
       "      <td>10</td>\n",
       "      <td>Afternoon</td>\n",
       "      <td>Yes</td>\n",
       "    </tr>\n",
       "    <tr>\n",
       "      <th>2</th>\n",
       "      <td>3</td>\n",
       "      <td>Ice Slide</td>\n",
       "      <td>Yes</td>\n",
       "      <td>No</td>\n",
       "      <td>No</td>\n",
       "      <td>107.7</td>\n",
       "      <td>No</td>\n",
       "      <td>45-54</td>\n",
       "      <td>Tablet</td>\n",
       "      <td>7</td>\n",
       "      <td>Evening</td>\n",
       "      <td>No</td>\n",
       "    </tr>\n",
       "    <tr>\n",
       "      <th>3</th>\n",
       "      <td>4</td>\n",
       "      <td>Bonhomme</td>\n",
       "      <td>Yes</td>\n",
       "      <td>Yes</td>\n",
       "      <td>Yes</td>\n",
       "      <td>37.2</td>\n",
       "      <td>Yes</td>\n",
       "      <td>25-34</td>\n",
       "      <td>Desktop</td>\n",
       "      <td>4</td>\n",
       "      <td>Morning</td>\n",
       "      <td>Yes</td>\n",
       "    </tr>\n",
       "    <tr>\n",
       "      <th>4</th>\n",
       "      <td>5</td>\n",
       "      <td>Bonhomme</td>\n",
       "      <td>No</td>\n",
       "      <td>Yes</td>\n",
       "      <td>No</td>\n",
       "      <td>81.6</td>\n",
       "      <td>Yes</td>\n",
       "      <td>45-54</td>\n",
       "      <td>Desktop</td>\n",
       "      <td>4</td>\n",
       "      <td>Morning</td>\n",
       "      <td>No</td>\n",
       "    </tr>\n",
       "  </tbody>\n",
       "</table>\n",
       "</div>"
      ],
      "text/plain": [
       "   Email_ID Photo_Name Open_Rate Click_Through_Rate Conversion  \\\n",
       "0         1  Elf Point        No                Yes         No   \n",
       "1         2  Elf Point       Yes                Yes        Yes   \n",
       "2         3  Ice Slide       Yes                 No         No   \n",
       "3         4   Bonhomme       Yes                Yes        Yes   \n",
       "4         5   Bonhomme        No                Yes         No   \n",
       "\n",
       "   Engagement_Time Bounce_Rate Recipient_Age_Group Device_Type  Photo_Rating  \\\n",
       "0             73.0         Yes               45-54     Desktop             8   \n",
       "1             30.8         Yes               45-54      Mobile            10   \n",
       "2            107.7          No               45-54      Tablet             7   \n",
       "3             37.2         Yes               25-34     Desktop             4   \n",
       "4             81.6         Yes               45-54     Desktop             4   \n",
       "\n",
       "  Time_of_Day Season_Pass_Holder  \n",
       "0     Morning                Yes  \n",
       "1   Afternoon                Yes  \n",
       "2     Evening                 No  \n",
       "3     Morning                Yes  \n",
       "4     Morning                 No  "
      ]
     },
     "execution_count": 3,
     "metadata": {},
     "output_type": "execute_result"
    }
   ],
   "source": [
    "ph=pd.read_csv('enchanted_festival_photos.csv')\n",
    "ph.head()"
   ]
  },
  {
   "cell_type": "code",
   "execution_count": 4,
   "id": "1020bce9-43eb-485b-ae83-0596196a1d6a",
   "metadata": {},
   "outputs": [
    {
     "data": {
      "text/plain": [
       "Email_ID               0\n",
       "Photo_Name             0\n",
       "Open_Rate              0\n",
       "Click_Through_Rate     0\n",
       "Conversion             0\n",
       "Engagement_Time        0\n",
       "Bounce_Rate            0\n",
       "Recipient_Age_Group    0\n",
       "Device_Type            0\n",
       "Photo_Rating           0\n",
       "Time_of_Day            0\n",
       "Season_Pass_Holder     0\n",
       "dtype: int64"
      ]
     },
     "execution_count": 4,
     "metadata": {},
     "output_type": "execute_result"
    }
   ],
   "source": [
    "ph.isna().sum()"
   ]
  },
  {
   "cell_type": "code",
   "execution_count": 5,
   "id": "2bc0ed5e-b88c-48a1-a3bc-2e726c8d417d",
   "metadata": {},
   "outputs": [
    {
     "data": {
      "text/plain": [
       "Photo_Name\n",
       "Bonhomme           374\n",
       "Elf Point          387\n",
       "Harbin Ice City    382\n",
       "Ice Slide          417\n",
       "Name: Email_ID, dtype: int64"
      ]
     },
     "execution_count": 5,
     "metadata": {},
     "output_type": "execute_result"
    }
   ],
   "source": [
    "ph.groupby('Photo_Name')['Email_ID'].count()"
   ]
  },
  {
   "cell_type": "markdown",
   "id": "ba7db906-78ba-40d5-87b6-986134366f1c",
   "metadata": {},
   "source": [
    "'Ice Slide' is the most Frequent Value in the dataset. Therefore, it has a slight advantage among other Photos, since it has a little bit more data. While this does not necessarily mean 'Ice Slide' is the best performing photo, the higher frequency of its appearance can help provide more reliable insights and strengthen the statistical results."
   ]
  },
  {
   "cell_type": "code",
   "execution_count": 7,
   "id": "fd2f3fff-3ed1-4c16-9647-453df13f5636",
   "metadata": {},
   "outputs": [
    {
     "data": {
      "image/png": "[encoded data removed]",
      "text/plain": [
       "<Figure size 640x480 with 1 Axes>"
      ]
     },
     "metadata": {},
     "output_type": "display_data"
    }
   ],
   "source": [
    "sns.boxplot(x='Photo_Name', y='Photo_Rating', data=ph);\n",
    "plt.title('Photo Rating by Photo');"
   ]
  },
  {
   "cell_type": "markdown",
   "id": "a559b33c-958f-466b-ae8f-383fac9b4b2d",
   "metadata": {},
   "source": [
    "The boxplot analysis reveals interesting insights into the distribution of ratings for each photo. 'Elf Point' and 'Ice Slide' have the highest average ratings, consistently around 9, and both exhibit a narrow rating range, typically between 8 and 10, with occasional dips to 7. This indicates that most recipients gave these photos very positive ratings, with few extreme ratings.\n",
    "\n",
    "In contrast, 'Bonhomme' and 'Harbin Ice City' received lower average ratings of around 6, with a wider rating range fluctuating between 5 and 7, occasionally dipping as low as 4 or rising to 8. This suggests a more mixed reception, with some recipients showing less enthusiasm for these photos.\n",
    "\n",
    "In summary, 'Elf Point' and 'Ice Slide' are favored by the audience with higher and more consistent ratings, while 'Bonhomme' and 'Harbin Ice City' received more varied and lower ratings overall. This reinforces the idea that 'Ice Slide' might be the most popular choice, as it also shows the highest observed conversion rate, along with strong engagement."
   ]
  },
  {
   "cell_type": "code",
   "execution_count": 9,
   "id": "dfc98ecd-9126-482f-a8e4-b5c351ee81ea",
   "metadata": {},
   "outputs": [
    {
     "data": {
      "text/html": [
       "<div>\n",
       "<style scoped>\n",
       "    .dataframe tbody tr th:only-of-type {\n",
       "        vertical-align: middle;\n",
       "    }\n",
       "\n",
       "    .dataframe tbody tr th {\n",
       "        vertical-align: top;\n",
       "    }\n",
       "\n",
       "    .dataframe thead th {\n",
       "        text-align: right;\n",
       "    }\n",
       "</style>\n",
       "<table border=\"1\" class=\"dataframe\">\n",
       "  <thead>\n",
       "    <tr style=\"text-align: right;\">\n",
       "      <th></th>\n",
       "      <th>count</th>\n",
       "      <th>mean</th>\n",
       "      <th>std</th>\n",
       "      <th>min</th>\n",
       "      <th>25%</th>\n",
       "      <th>50%</th>\n",
       "      <th>75%</th>\n",
       "      <th>max</th>\n",
       "    </tr>\n",
       "    <tr>\n",
       "      <th>Photo_Name</th>\n",
       "      <th></th>\n",
       "      <th></th>\n",
       "      <th></th>\n",
       "      <th></th>\n",
       "      <th></th>\n",
       "      <th></th>\n",
       "      <th></th>\n",
       "      <th></th>\n",
       "    </tr>\n",
       "  </thead>\n",
       "  <tbody>\n",
       "    <tr>\n",
       "      <th>Bonhomme</th>\n",
       "      <td>374.0</td>\n",
       "      <td>49.060160</td>\n",
       "      <td>23.568708</td>\n",
       "      <td>10.1</td>\n",
       "      <td>28.65</td>\n",
       "      <td>49.15</td>\n",
       "      <td>70.325</td>\n",
       "      <td>89.7</td>\n",
       "    </tr>\n",
       "    <tr>\n",
       "      <th>Elf Point</th>\n",
       "      <td>387.0</td>\n",
       "      <td>69.240568</td>\n",
       "      <td>29.068364</td>\n",
       "      <td>20.2</td>\n",
       "      <td>44.15</td>\n",
       "      <td>70.10</td>\n",
       "      <td>93.500</td>\n",
       "      <td>119.9</td>\n",
       "    </tr>\n",
       "    <tr>\n",
       "      <th>Harbin Ice City</th>\n",
       "      <td>382.0</td>\n",
       "      <td>48.565445</td>\n",
       "      <td>23.689299</td>\n",
       "      <td>10.1</td>\n",
       "      <td>27.40</td>\n",
       "      <td>47.45</td>\n",
       "      <td>70.100</td>\n",
       "      <td>89.8</td>\n",
       "    </tr>\n",
       "    <tr>\n",
       "      <th>Ice Slide</th>\n",
       "      <td>417.0</td>\n",
       "      <td>73.116307</td>\n",
       "      <td>28.239336</td>\n",
       "      <td>20.3</td>\n",
       "      <td>50.70</td>\n",
       "      <td>73.20</td>\n",
       "      <td>98.500</td>\n",
       "      <td>120.0</td>\n",
       "    </tr>\n",
       "  </tbody>\n",
       "</table>\n",
       "</div>"
      ],
      "text/plain": [
       "                 count       mean        std   min    25%    50%     75%  \\\n",
       "Photo_Name                                                                 \n",
       "Bonhomme         374.0  49.060160  23.568708  10.1  28.65  49.15  70.325   \n",
       "Elf Point        387.0  69.240568  29.068364  20.2  44.15  70.10  93.500   \n",
       "Harbin Ice City  382.0  48.565445  23.689299  10.1  27.40  47.45  70.100   \n",
       "Ice Slide        417.0  73.116307  28.239336  20.3  50.70  73.20  98.500   \n",
       "\n",
       "                   max  \n",
       "Photo_Name              \n",
       "Bonhomme          89.7  \n",
       "Elf Point        119.9  \n",
       "Harbin Ice City   89.8  \n",
       "Ice Slide        120.0  "
      ]
     },
     "execution_count": 9,
     "metadata": {},
     "output_type": "execute_result"
    }
   ],
   "source": [
    "ph.groupby('Photo_Name')['Engagement_Time'].describe()"
   ]
  },
  {
   "cell_type": "code",
   "execution_count": 10,
   "id": "4fb43ef8-5945-430d-be0f-d3a57ee092b0",
   "metadata": {},
   "outputs": [
    {
     "data": {
      "image/png": "[encoded data removed]",
      "text/plain": [
       "<Figure size 640x480 with 1 Axes>"
      ]
     },
     "metadata": {},
     "output_type": "display_data"
    }
   ],
   "source": [
    "sns.barplot(x='Photo_Name', y='Engagement_Time', errorbar=None, data=ph);\n",
    "plt.title('Average Engagement Time by Photo');"
   ]
  },
  {
   "cell_type": "markdown",
   "id": "b96325dc-8b88-4eeb-86c9-f87409b9b9c9",
   "metadata": {},
   "source": [
    "The analysis of Average Engagement Time highlights similar trends to the rating analysis. 'Ice Slide' leads with the longest engagement time, exceeding 70 seconds on average, followed closely by 'Elf Point' with almost 70 seconds. In contrast, 'Harbin Ice City' and 'Bonhomme' have significantly lower engagement times, both under 50 seconds on average.\n",
    "\n",
    "Additionally, the summary statistics above the barplot points that the range of engagement time is broader for 'Elf Point' and 'Ice Slide,' with the minimum time at 20 seconds and the maximum time reaching up to 120 seconds. This suggests that these photos not only capture attention for a longer period but also see a wider variation in how long recipients engage with the content."
   ]
  },
  {
   "cell_type": "markdown",
   "id": "1dd23550-499e-4f20-8d52-446389424a55",
   "metadata": {},
   "source": [
    "In order to determine which photo performs the best, a new column called 'Impact' was created. The 'Impact' column was calculated by dividing the Photo Rating by the Engagement Time for each recipient. This approach helps quantify the effectiveness of each photo by considering both how highly it was rated and how long recipients engaged with it."
   ]
  },
  {
   "cell_type": "code",
   "execution_count": 13,
   "id": "d2846009-657c-449f-b093-405d19212e35",
   "metadata": {},
   "outputs": [
    {
     "data": {
      "text/html": [
       "<div>\n",
       "<style scoped>\n",
       "    .dataframe tbody tr th:only-of-type {\n",
       "        vertical-align: middle;\n",
       "    }\n",
       "\n",
       "    .dataframe tbody tr th {\n",
       "        vertical-align: top;\n",
       "    }\n",
       "\n",
       "    .dataframe thead th {\n",
       "        text-align: right;\n",
       "    }\n",
       "</style>\n",
       "<table border=\"1\" class=\"dataframe\">\n",
       "  <thead>\n",
       "    <tr style=\"text-align: right;\">\n",
       "      <th></th>\n",
       "      <th>Email_ID</th>\n",
       "      <th>Photo_Name</th>\n",
       "      <th>Open_Rate</th>\n",
       "      <th>Click_Through_Rate</th>\n",
       "      <th>Conversion</th>\n",
       "      <th>Engagement_Time</th>\n",
       "      <th>Bounce_Rate</th>\n",
       "      <th>Recipient_Age_Group</th>\n",
       "      <th>Device_Type</th>\n",
       "      <th>Photo_Rating</th>\n",
       "      <th>Time_of_Day</th>\n",
       "      <th>Season_Pass_Holder</th>\n",
       "      <th>Impact</th>\n",
       "    </tr>\n",
       "  </thead>\n",
       "  <tbody>\n",
       "    <tr>\n",
       "      <th>0</th>\n",
       "      <td>1</td>\n",
       "      <td>Elf Point</td>\n",
       "      <td>No</td>\n",
       "      <td>Yes</td>\n",
       "      <td>No</td>\n",
       "      <td>73.0</td>\n",
       "      <td>Yes</td>\n",
       "      <td>45-54</td>\n",
       "      <td>Desktop</td>\n",
       "      <td>8</td>\n",
       "      <td>Morning</td>\n",
       "      <td>Yes</td>\n",
       "      <td>0.109589</td>\n",
       "    </tr>\n",
       "    <tr>\n",
       "      <th>1</th>\n",
       "      <td>2</td>\n",
       "      <td>Elf Point</td>\n",
       "      <td>Yes</td>\n",
       "      <td>Yes</td>\n",
       "      <td>Yes</td>\n",
       "      <td>30.8</td>\n",
       "      <td>Yes</td>\n",
       "      <td>45-54</td>\n",
       "      <td>Mobile</td>\n",
       "      <td>10</td>\n",
       "      <td>Afternoon</td>\n",
       "      <td>Yes</td>\n",
       "      <td>0.324675</td>\n",
       "    </tr>\n",
       "    <tr>\n",
       "      <th>2</th>\n",
       "      <td>3</td>\n",
       "      <td>Ice Slide</td>\n",
       "      <td>Yes</td>\n",
       "      <td>No</td>\n",
       "      <td>No</td>\n",
       "      <td>107.7</td>\n",
       "      <td>No</td>\n",
       "      <td>45-54</td>\n",
       "      <td>Tablet</td>\n",
       "      <td>7</td>\n",
       "      <td>Evening</td>\n",
       "      <td>No</td>\n",
       "      <td>0.064995</td>\n",
       "    </tr>\n",
       "    <tr>\n",
       "      <th>3</th>\n",
       "      <td>4</td>\n",
       "      <td>Bonhomme</td>\n",
       "      <td>Yes</td>\n",
       "      <td>Yes</td>\n",
       "      <td>Yes</td>\n",
       "      <td>37.2</td>\n",
       "      <td>Yes</td>\n",
       "      <td>25-34</td>\n",
       "      <td>Desktop</td>\n",
       "      <td>4</td>\n",
       "      <td>Morning</td>\n",
       "      <td>Yes</td>\n",
       "      <td>0.107527</td>\n",
       "    </tr>\n",
       "    <tr>\n",
       "      <th>4</th>\n",
       "      <td>5</td>\n",
       "      <td>Bonhomme</td>\n",
       "      <td>No</td>\n",
       "      <td>Yes</td>\n",
       "      <td>No</td>\n",
       "      <td>81.6</td>\n",
       "      <td>Yes</td>\n",
       "      <td>45-54</td>\n",
       "      <td>Desktop</td>\n",
       "      <td>4</td>\n",
       "      <td>Morning</td>\n",
       "      <td>No</td>\n",
       "      <td>0.049020</td>\n",
       "    </tr>\n",
       "  </tbody>\n",
       "</table>\n",
       "</div>"
      ],
      "text/plain": [
       "   Email_ID Photo_Name Open_Rate Click_Through_Rate Conversion  \\\n",
       "0         1  Elf Point        No                Yes         No   \n",
       "1         2  Elf Point       Yes                Yes        Yes   \n",
       "2         3  Ice Slide       Yes                 No         No   \n",
       "3         4   Bonhomme       Yes                Yes        Yes   \n",
       "4         5   Bonhomme        No                Yes         No   \n",
       "\n",
       "   Engagement_Time Bounce_Rate Recipient_Age_Group Device_Type  Photo_Rating  \\\n",
       "0             73.0         Yes               45-54     Desktop             8   \n",
       "1             30.8         Yes               45-54      Mobile            10   \n",
       "2            107.7          No               45-54      Tablet             7   \n",
       "3             37.2         Yes               25-34     Desktop             4   \n",
       "4             81.6         Yes               45-54     Desktop             4   \n",
       "\n",
       "  Time_of_Day Season_Pass_Holder    Impact  \n",
       "0     Morning                Yes  0.109589  \n",
       "1   Afternoon                Yes  0.324675  \n",
       "2     Evening                 No  0.064995  \n",
       "3     Morning                Yes  0.107527  \n",
       "4     Morning                 No  0.049020  "
      ]
     },
     "execution_count": 13,
     "metadata": {},
     "output_type": "execute_result"
    }
   ],
   "source": [
    "ph['Impact']=ph['Photo_Rating']/ph['Engagement_Time']\n",
    "ph.head()"
   ]
  },
  {
   "cell_type": "code",
   "execution_count": 14,
   "id": "bdea8178-c44d-4ea1-b6af-6e490355ebdf",
   "metadata": {},
   "outputs": [
    {
     "data": {
      "text/plain": [
       "Photo_Name\n",
       "Bonhomme           0.171641\n",
       "Elf Point          0.157495\n",
       "Harbin Ice City    0.173909\n",
       "Ice Slide          0.144310\n",
       "Name: Impact, dtype: float64"
      ]
     },
     "execution_count": 14,
     "metadata": {},
     "output_type": "execute_result"
    }
   ],
   "source": [
    "ph.groupby('Photo_Name')['Impact'].mean()"
   ]
  },
  {
   "cell_type": "code",
   "execution_count": 15,
   "id": "14738971-e67c-4b2f-a5f5-6bd815956e79",
   "metadata": {},
   "outputs": [
    {
     "data": {
      "image/png": "[encoded data removed]",
      "text/plain": [
       "<Figure size 640x480 with 1 Axes>"
      ]
     },
     "metadata": {},
     "output_type": "display_data"
    }
   ],
   "source": [
    "sns.barplot(x='Photo_Name', y='Impact', errorbar=None, data=ph);\n",
    "plt.title('Average Impact by Photo');"
   ]
  },
  {
   "cell_type": "markdown",
   "id": "608fc66c-955e-4b18-9580-170974a84982",
   "metadata": {},
   "source": [
    "Impact metric shows what rating each photo receives per second.\n",
    "\n",
    "This barplot helps evaluate how efficiently each photo generates ratings relative to the time spent engaging with it. Although Elf Point and Ice Slide have the highest average Engagement Time and Ratings, their Impact is lower compared to Bonhomme and Harbin Ice City. This is because Impact reflects the efficiency of each photo in generating ratings in relation to the time spent interacting with it.\n",
    "\n",
    "For instance, while Elf Point and Ice Slide might receive high ratings and have longer engagement times, they require more time to achieve these ratings, leading to a lower Impact score. In contrast, Bonhomme and Harbin Ice City, despite having slightly lower ratings and shorter engagement times, are more efficient in generating high ratings with less time spent, resulting in higher Impact values.\n",
    "\n",
    "This means that a higher Impact indicates that a photo is better at achieving high ratings in a shorter amount of time, whereas a lower Impact suggests that the photo requires more engagement time to reach similar ratings. Therefore, according to the barplot results, Bonhomme and Harbin Ice City are more efficient at engaging recipients compared to Elf Point and Ice Slide.\n",
    "\n",
    " "
   ]
  },
  {
   "cell_type": "markdown",
   "id": "c1d14b83-1f3f-46bc-8df7-a2022f290248",
   "metadata": {},
   "source": [
    "# Generating t-tests"
   ]
  },
  {
   "cell_type": "markdown",
   "id": "a44cc529-a65c-4861-a336-471780332e0b",
   "metadata": {},
   "source": [
    "# 1. Anova"
   ]
  },
  {
   "cell_type": "markdown",
   "id": "dd67d136-a2a8-452e-a939-bae6a946548a",
   "metadata": {},
   "source": [
    "Since the dataset has 4 photos, it is better to start with ANOVA test before doing the t-tests.\n",
    "\n",
    "The ANOVA test will tell if there is at least one photo that differs significantly from the others in terms of Impact.\n",
    "\n",
    "**Null Hypothesis:**\n",
    "There is no significant difference in Impact between the four photos.\n",
    "\n",
    "**Alternative Hypothesis:**\n",
    "At least one of the photos has a significantly different Impact.\n",
    "\n",
    "If the p-value from the ANOVA test is below p-value (0.05), the null hypothesis is rejected and there is the conclusion that there is a statistically significant difference in Impact between the four photos."
   ]
  },
  {
   "cell_type": "code",
   "execution_count": 20,
   "id": "92034ebc-4e43-4ab6-bf46-5b8a35d5d9b9",
   "metadata": {},
   "outputs": [
    {
     "name": "stdout",
     "output_type": "stream",
     "text": [
      "ANOVA test results:\n",
      "F-statistic: 6.166704947172455\n",
      "P-value: 0.0003642535457064892\n"
     ]
    }
   ],
   "source": [
    "f_stat, p_value = stats.f_oneway(\n",
    "    ph.loc[ph['Photo_Name'] == 'Bonhomme', 'Impact'],\n",
    "    ph.loc[ph['Photo_Name'] == 'Elf Point', 'Impact'],\n",
    "    ph.loc[ph['Photo_Name'] == 'Harbin Ice City', 'Impact'],\n",
    "    ph.loc[ph['Photo_Name'] == 'Ice Slide', 'Impact']\n",
    ")\n",
    "\n",
    "\n",
    "print(f'ANOVA test results:')\n",
    "print(f'F-statistic: {f_stat}')\n",
    "print(f'P-value: {p_value}')"
   ]
  },
  {
   "cell_type": "markdown",
   "id": "2de4eabe-b527-4966-aa0c-8fd3c7b1d95c",
   "metadata": {},
   "source": [
    "The p-value is lower than 0.05, so the photos have statistically significant difference. T-tests will help to determine which photos are different."
   ]
  },
  {
   "cell_type": "markdown",
   "id": "7bd06f10-0e62-4dab-b225-94d4bea8ae36",
   "metadata": {},
   "source": [
    "# 2. T-tests"
   ]
  },
  {
   "cell_type": "markdown",
   "id": "2d73b3c2-6355-45b0-be59-ef5b6f3f5fd8",
   "metadata": {},
   "source": [
    "**Null Hypothesis:** There is no difference in the mean Impact scores between the two photos.\n",
    "\n",
    "**Alternative Hypothesis:** There is a difference in the mean Impact scores between the two photos."
   ]
  },
  {
   "cell_type": "markdown",
   "id": "bcbfe447-49d9-42ad-83f9-99f17745cad2",
   "metadata": {},
   "source": [
    "When performing multiple comparisons (for each pair of photos), the likelihood of finding a false positive increases due to the multiple tests. To correct for this, the Bonferroni correction helps.\n",
    "\n",
    "Bonferroni correction threshold is: 0.05/6=0.0083 (new threshold). Divided by 6 because will have 6 tests/comparisons."
   ]
  },
  {
   "cell_type": "code",
   "execution_count": 25,
   "id": "ae1e2dc3-bbca-4654-acf2-9df9f99a74d4",
   "metadata": {},
   "outputs": [
    {
     "name": "stdout",
     "output_type": "stream",
     "text": [
      "Elf Point vs.Ice Slide\n",
      "t-test: 2.1460189193610817\n",
      "p-value: 0.032176818826623106\n"
     ]
    }
   ],
   "source": [
    "t, p = stats.ttest_ind(\n",
    "    ph.loc[ph['Photo_Name'] == 'Elf Point', 'Impact'].values,\n",
    "    ph.loc[ph['Photo_Name'] == 'Ice Slide', 'Impact'].values,\n",
    "    equal_var=False )\n",
    "print('Elf Point vs.Ice Slide')\n",
    "print('t-test:', t)\n",
    "print('p-value:',p)"
   ]
  },
  {
   "cell_type": "markdown",
   "id": "27abddfc-4552-4569-b2cf-538169bb7b36",
   "metadata": {},
   "source": [
    "Fail to reject"
   ]
  },
  {
   "cell_type": "code",
   "execution_count": 27,
   "id": "d8a152d9-82c7-4598-a9c9-28072d6c0b67",
   "metadata": {},
   "outputs": [
    {
     "name": "stdout",
     "output_type": "stream",
     "text": [
      "Elf Point vs.Bonhomme\n",
      "t-test: -1.6896181097457026\n",
      "p-value: 0.09158537695037049\n"
     ]
    }
   ],
   "source": [
    "t, p = stats.ttest_ind(\n",
    "    ph.loc[ph['Photo_Name'] == 'Elf Point', 'Impact'].values,\n",
    "    ph.loc[ph['Photo_Name'] == 'Bonhomme', 'Impact'].values,\n",
    "    equal_var=False )\n",
    "print('Elf Point vs.Bonhomme')\n",
    "print('t-test:', t)\n",
    "print('p-value:',p)"
   ]
  },
  {
   "cell_type": "markdown",
   "id": "a89f1c35-268f-453a-b90b-e308c62b34f2",
   "metadata": {},
   "source": [
    "Fail to reject"
   ]
  },
  {
   "cell_type": "code",
   "execution_count": 29,
   "id": "7868e58a-7740-42f4-a95c-ad10f3b6c249",
   "metadata": {},
   "outputs": [
    {
     "name": "stdout",
     "output_type": "stream",
     "text": [
      "Elf Point vs. Harbin Ice City\n",
      "t-test: -2.067762845115447\n",
      "p-value: 0.0390373003748712\n"
     ]
    }
   ],
   "source": [
    "t, p = stats.ttest_ind(\n",
    "    ph.loc[ph['Photo_Name'] == 'Elf Point', 'Impact'].values,\n",
    "    ph.loc[ph['Photo_Name'] == 'Harbin Ice City', 'Impact'].values,\n",
    "    equal_var=False )\n",
    "print('Elf Point vs. Harbin Ice City')\n",
    "print('t-test:', t)\n",
    "print('p-value:',p)"
   ]
  },
  {
   "cell_type": "markdown",
   "id": "0cbe4fb2-fca6-453b-988e-3ac34aea8505",
   "metadata": {},
   "source": [
    "Fail to reject"
   ]
  },
  {
   "cell_type": "code",
   "execution_count": 31,
   "id": "6c93b865-b350-43f8-8211-d44d15b28c46",
   "metadata": {},
   "outputs": [
    {
     "name": "stdout",
     "output_type": "stream",
     "text": [
      "Bonhomme vs.Ice Slide\n",
      "t-test: 3.3582870064145434\n",
      "p-value: 0.0008332046821906427\n"
     ]
    }
   ],
   "source": [
    "t, p = stats.ttest_ind(\n",
    "    ph.loc[ph['Photo_Name'] == 'Bonhomme', 'Impact'].values,\n",
    "    ph.loc[ph['Photo_Name'] == 'Ice Slide', 'Impact'].values,\n",
    "    equal_var=False )\n",
    "print('Bonhomme vs.Ice Slide')\n",
    "print('t-test:', t)\n",
    "print('p-value:',p)"
   ]
  },
  {
   "cell_type": "markdown",
   "id": "26fe456b-d8a3-4013-8147-4406839e7a18",
   "metadata": {},
   "source": [
    "Reject"
   ]
  },
  {
   "cell_type": "code",
   "execution_count": 33,
   "id": "c6e4a036-46ce-4975-8c63-cb2665d202da",
   "metadata": {},
   "outputs": [
    {
     "name": "stdout",
     "output_type": "stream",
     "text": [
      "Harbin Ice City vs.Ice Slide\n",
      "t-test: 3.848494731146451\n",
      "p-value: 0.0001305391622767858\n"
     ]
    }
   ],
   "source": [
    "t, p = stats.ttest_ind(\n",
    "    ph.loc[ph['Photo_Name'] == 'Harbin Ice City', 'Impact'].values,\n",
    "    ph.loc[ph['Photo_Name'] == 'Ice Slide', 'Impact'].values,\n",
    "    equal_var=False )\n",
    "print('Harbin Ice City vs.Ice Slide')\n",
    "print('t-test:', t)\n",
    "print('p-value:',p)"
   ]
  },
  {
   "cell_type": "markdown",
   "id": "58dc08a1-d571-4835-bf50-bcfaac2b7a4e",
   "metadata": {},
   "source": [
    "Reject"
   ]
  },
  {
   "cell_type": "code",
   "execution_count": 35,
   "id": "5dc6e77f-a957-48d9-97db-1b49e0251be9",
   "metadata": {},
   "outputs": [
    {
     "name": "stdout",
     "output_type": "stream",
     "text": [
      "Bonhomme vs. Harbin Ice City\n",
      "t-test: -0.23716771223358002\n",
      "p-value: 0.8125916050890718\n"
     ]
    }
   ],
   "source": [
    "t, p = stats.ttest_ind(\n",
    "    ph.loc[ph['Photo_Name'] == 'Bonhomme', 'Impact'].values,\n",
    "    ph.loc[ph['Photo_Name'] == 'Harbin Ice City', 'Impact'].values,\n",
    "    equal_var=False )\n",
    "print('Bonhomme vs. Harbin Ice City')\n",
    "print('t-test:', t)\n",
    "print('p-value:',p)"
   ]
  },
  {
   "cell_type": "markdown",
   "id": "4c54ceb3-1b0a-42c8-9b17-d0e3c08ac2f8",
   "metadata": {},
   "source": [
    "Fail to reject"
   ]
  },
  {
   "cell_type": "markdown",
   "id": "58a059d9-d432-4585-9616-a3a41cee2b60",
   "metadata": {},
   "source": [
    "Bonhomme vs Ice Slide and Harbin Ice City vs Ice Slide show statistically significant differences in Impact, indicating that \"Ice Slide\" has a notably different (higher or lower) Impact compared to the other two photos.\n",
    "\n",
    "For the other comparisons (Elf Point vs. Ice Slide, Elf Point vs Bonhomme, Elf Point vs Harbin Ice City, and Bonhomme vs Harbin Ice City), the differences are not statistically significant after correcting for multiple tests (Bonferroni correction). This suggests that Impact does not vary meaningfully between these photos.\n",
    "\n",
    "However, if look at the results of p-values where the Null hypothesis was failed to rejected, only one p-value is really high (Bonhomme vs. Harbin Ice City). In other cases, p-value is not that high. Yes, they are higher than corrected p-value (0.0083): Elf Point vs Bonhomme, but some of them are lower than usual p-value (0.05): Elf Point vs Ice Slide and Elf Point vs Harbin Ice City.\n",
    "\n"
   ]
  },
  {
   "cell_type": "markdown",
   "id": "4f2b03be-6f06-4d95-b72e-a8b83d42e258",
   "metadata": {},
   "source": [
    "The t-tests for the Impact metric show that Ice Slide performs significantly differently compared to Bonhomme and Harbin Ice City, making it stand out in terms of rating per second of engagement. However, the results for Elf Point are less clear, with some p-values being close to the usual threshold but not meeting the stricter corrected value.\n",
    "\n",
    "It's too early to decide which photo to choose based only on Impact. The chi-square test, which looks at how well each photo drives conversions, is a more direct measure of audience response. It’s best to combine the results of both tests before making a final decision."
   ]
  },
  {
   "cell_type": "markdown",
   "id": "b564e283-d755-42c0-bca2-09dc9ebc55a6",
   "metadata": {},
   "source": [
    "# Chi-Square"
   ]
  },
  {
   "cell_type": "code",
   "execution_count": 40,
   "id": "e33dd697-f7ea-4123-a468-4ea1c5009111",
   "metadata": {},
   "outputs": [
    {
     "data": {
      "text/html": [
       "<div>\n",
       "<style scoped>\n",
       "    .dataframe tbody tr th:only-of-type {\n",
       "        vertical-align: middle;\n",
       "    }\n",
       "\n",
       "    .dataframe tbody tr th {\n",
       "        vertical-align: top;\n",
       "    }\n",
       "\n",
       "    .dataframe thead th {\n",
       "        text-align: right;\n",
       "    }\n",
       "</style>\n",
       "<table border=\"1\" class=\"dataframe\">\n",
       "  <thead>\n",
       "    <tr style=\"text-align: right;\">\n",
       "      <th></th>\n",
       "      <th>Email_ID</th>\n",
       "      <th>Photo_Name</th>\n",
       "      <th>Open_Rate</th>\n",
       "      <th>Click_Through_Rate</th>\n",
       "      <th>Conversion</th>\n",
       "      <th>Engagement_Time</th>\n",
       "      <th>Bounce_Rate</th>\n",
       "      <th>Recipient_Age_Group</th>\n",
       "      <th>Device_Type</th>\n",
       "      <th>Photo_Rating</th>\n",
       "      <th>Time_of_Day</th>\n",
       "      <th>Season_Pass_Holder</th>\n",
       "      <th>Impact</th>\n",
       "    </tr>\n",
       "  </thead>\n",
       "  <tbody>\n",
       "    <tr>\n",
       "      <th>0</th>\n",
       "      <td>1</td>\n",
       "      <td>Elf Point</td>\n",
       "      <td>No</td>\n",
       "      <td>Yes</td>\n",
       "      <td>No</td>\n",
       "      <td>73.0</td>\n",
       "      <td>Yes</td>\n",
       "      <td>45-54</td>\n",
       "      <td>Desktop</td>\n",
       "      <td>8</td>\n",
       "      <td>Morning</td>\n",
       "      <td>Yes</td>\n",
       "      <td>0.109589</td>\n",
       "    </tr>\n",
       "    <tr>\n",
       "      <th>1</th>\n",
       "      <td>2</td>\n",
       "      <td>Elf Point</td>\n",
       "      <td>Yes</td>\n",
       "      <td>Yes</td>\n",
       "      <td>Yes</td>\n",
       "      <td>30.8</td>\n",
       "      <td>Yes</td>\n",
       "      <td>45-54</td>\n",
       "      <td>Mobile</td>\n",
       "      <td>10</td>\n",
       "      <td>Afternoon</td>\n",
       "      <td>Yes</td>\n",
       "      <td>0.324675</td>\n",
       "    </tr>\n",
       "    <tr>\n",
       "      <th>2</th>\n",
       "      <td>3</td>\n",
       "      <td>Ice Slide</td>\n",
       "      <td>Yes</td>\n",
       "      <td>No</td>\n",
       "      <td>No</td>\n",
       "      <td>107.7</td>\n",
       "      <td>No</td>\n",
       "      <td>45-54</td>\n",
       "      <td>Tablet</td>\n",
       "      <td>7</td>\n",
       "      <td>Evening</td>\n",
       "      <td>No</td>\n",
       "      <td>0.064995</td>\n",
       "    </tr>\n",
       "    <tr>\n",
       "      <th>3</th>\n",
       "      <td>4</td>\n",
       "      <td>Bonhomme</td>\n",
       "      <td>Yes</td>\n",
       "      <td>Yes</td>\n",
       "      <td>Yes</td>\n",
       "      <td>37.2</td>\n",
       "      <td>Yes</td>\n",
       "      <td>25-34</td>\n",
       "      <td>Desktop</td>\n",
       "      <td>4</td>\n",
       "      <td>Morning</td>\n",
       "      <td>Yes</td>\n",
       "      <td>0.107527</td>\n",
       "    </tr>\n",
       "    <tr>\n",
       "      <th>4</th>\n",
       "      <td>5</td>\n",
       "      <td>Bonhomme</td>\n",
       "      <td>No</td>\n",
       "      <td>Yes</td>\n",
       "      <td>No</td>\n",
       "      <td>81.6</td>\n",
       "      <td>Yes</td>\n",
       "      <td>45-54</td>\n",
       "      <td>Desktop</td>\n",
       "      <td>4</td>\n",
       "      <td>Morning</td>\n",
       "      <td>No</td>\n",
       "      <td>0.049020</td>\n",
       "    </tr>\n",
       "  </tbody>\n",
       "</table>\n",
       "</div>"
      ],
      "text/plain": [
       "   Email_ID Photo_Name Open_Rate Click_Through_Rate Conversion  \\\n",
       "0         1  Elf Point        No                Yes         No   \n",
       "1         2  Elf Point       Yes                Yes        Yes   \n",
       "2         3  Ice Slide       Yes                 No         No   \n",
       "3         4   Bonhomme       Yes                Yes        Yes   \n",
       "4         5   Bonhomme        No                Yes         No   \n",
       "\n",
       "   Engagement_Time Bounce_Rate Recipient_Age_Group Device_Type  Photo_Rating  \\\n",
       "0             73.0         Yes               45-54     Desktop             8   \n",
       "1             30.8         Yes               45-54      Mobile            10   \n",
       "2            107.7          No               45-54      Tablet             7   \n",
       "3             37.2         Yes               25-34     Desktop             4   \n",
       "4             81.6         Yes               45-54     Desktop             4   \n",
       "\n",
       "  Time_of_Day Season_Pass_Holder    Impact  \n",
       "0     Morning                Yes  0.109589  \n",
       "1   Afternoon                Yes  0.324675  \n",
       "2     Evening                 No  0.064995  \n",
       "3     Morning                Yes  0.107527  \n",
       "4     Morning                 No  0.049020  "
      ]
     },
     "execution_count": 40,
     "metadata": {},
     "output_type": "execute_result"
    }
   ],
   "source": [
    "ph.head()"
   ]
  },
  {
   "cell_type": "markdown",
   "id": "6f931196-5754-443d-90cb-bfa25740bedc",
   "metadata": {},
   "source": [
    "For the Chi-Square was chosen Conversion Metric. This variable directly measures the desired outcome of the campaign: whether recipients took the target action, such as signing up for email updates about the Enchanted Winter Carnival. Unlike engagement time or rating, conversion reflects actual behavioral commitment and the success of each photo in driving meaningful results.\n",
    "\n",
    "Also it is important to set the **Null Hypothesis:** There is no significant difference in the conversion rates between the four photos. In other words, all photos have the same probability of leading to a conversion, and any differences observed in the data are due to variability rather than any meaningful pattern.\n",
    "\n",
    "**Alternative Hypothesis:** There is significant difference in the conversion rates between the four photos."
   ]
  },
  {
   "cell_type": "code",
   "execution_count": 42,
   "id": "3695b8c0-6915-4347-8d31-66c5c65c117c",
   "metadata": {},
   "outputs": [],
   "source": [
    "ph['Conversion'] = ph['Conversion'].map({'Yes': 1, 'No': 0})"
   ]
  },
  {
   "cell_type": "code",
   "execution_count": 43,
   "id": "bf393c98-85fd-4ef0-8089-a1c3997d07da",
   "metadata": {},
   "outputs": [
    {
     "name": "stdout",
     "output_type": "stream",
     "text": [
      "observed values: 807\n"
     ]
    }
   ],
   "source": [
    "ph_c = ph['Conversion'].sum()\n",
    "print ('observed values:', ph_c)"
   ]
  },
  {
   "cell_type": "code",
   "execution_count": 44,
   "id": "5a178ff7-a072-4de6-9614-527fe152e5d7",
   "metadata": {},
   "outputs": [
    {
     "name": "stdout",
     "output_type": "stream",
     "text": [
      "total: 1560\n"
     ]
    }
   ],
   "source": [
    "total_ph=ph.shape[0]\n",
    "print('total:', total_ph)"
   ]
  },
  {
   "cell_type": "code",
   "execution_count": 45,
   "id": "f7d3800f-a55e-4a5b-9c15-1387bc3731c5",
   "metadata": {},
   "outputs": [
    {
     "data": {
      "text/plain": [
       "0.5173076923076924"
      ]
     },
     "execution_count": 45,
     "metadata": {},
     "output_type": "execute_result"
    }
   ],
   "source": [
    "conversion_proportion= ph_c/total_ph\n",
    "conversion_proportion"
   ]
  },
  {
   "cell_type": "markdown",
   "id": "0a645b6e-e5d7-41b2-859b-996ef900d30a",
   "metadata": {},
   "source": [
    "The proportion in this Chi-Square test is used because this allows to fairly compare conversion rates across the four photo groups, even though the total number of emails sent for each photo may differ. By calculating expected conversions based on the overall conversion proportion, it helps to ensure that the comparisons are adjusted for differences in sample sizes."
   ]
  },
  {
   "cell_type": "code",
   "execution_count": 47,
   "id": "20c124ad-e0d2-4281-8ab8-615ffbeefb23",
   "metadata": {},
   "outputs": [],
   "source": [
    "total_Bonhomme = ph[ph['Photo_Name'] == 'Bonhomme'].shape[0]\n",
    "total_Elf = ph[ph['Photo_Name'] == 'Elf Point'].shape[0]\n",
    "total_Harbin = ph[ph['Photo_Name'] == 'Harbin Ice City'].shape[0]\n",
    "total_IceSlide = ph[ph['Photo_Name'] == 'Ice Slide'].shape[0]"
   ]
  },
  {
   "cell_type": "code",
   "execution_count": 48,
   "id": "3c38e9f8-a7b4-4c26-ab67-d7d51c4c4fec",
   "metadata": {},
   "outputs": [],
   "source": [
    "expected_B = total_Bonhomme * conversion_proportion\n",
    "expected_E = total_Elf * conversion_proportion\n",
    "expected_H = total_Harbin * conversion_proportion\n",
    "expected_I = total_IceSlide * conversion_proportion"
   ]
  },
  {
   "cell_type": "code",
   "execution_count": 49,
   "id": "cb8828f9-8c05-4d46-97fd-7d7964147a21",
   "metadata": {},
   "outputs": [],
   "source": [
    "expected_counts = {\n",
    "    'Photo_Name': ['Bonhomme', 'Elf Point', 'Harbin Ice City', 'Ice Slide'],\n",
    "    'Total Conversion': [total_Bonhomme, total_Elf, total_Harbin, total_IceSlide],\n",
    "    'Expected Conversion': [expected_B, expected_E, expected_H, expected_I]\n",
    "}"
   ]
  },
  {
   "cell_type": "code",
   "execution_count": 50,
   "id": "3fa76176-73e2-44a0-b9ed-db93008614df",
   "metadata": {},
   "outputs": [
    {
     "data": {
      "text/html": [
       "<div>\n",
       "<style scoped>\n",
       "    .dataframe tbody tr th:only-of-type {\n",
       "        vertical-align: middle;\n",
       "    }\n",
       "\n",
       "    .dataframe tbody tr th {\n",
       "        vertical-align: top;\n",
       "    }\n",
       "\n",
       "    .dataframe thead th {\n",
       "        text-align: right;\n",
       "    }\n",
       "</style>\n",
       "<table border=\"1\" class=\"dataframe\">\n",
       "  <thead>\n",
       "    <tr style=\"text-align: right;\">\n",
       "      <th></th>\n",
       "      <th>Photo_Name</th>\n",
       "      <th>Total Conversion</th>\n",
       "      <th>Expected Conversion</th>\n",
       "    </tr>\n",
       "  </thead>\n",
       "  <tbody>\n",
       "    <tr>\n",
       "      <th>0</th>\n",
       "      <td>Bonhomme</td>\n",
       "      <td>374</td>\n",
       "      <td>193.473077</td>\n",
       "    </tr>\n",
       "    <tr>\n",
       "      <th>1</th>\n",
       "      <td>Elf Point</td>\n",
       "      <td>387</td>\n",
       "      <td>200.198077</td>\n",
       "    </tr>\n",
       "    <tr>\n",
       "      <th>2</th>\n",
       "      <td>Harbin Ice City</td>\n",
       "      <td>382</td>\n",
       "      <td>197.611538</td>\n",
       "    </tr>\n",
       "    <tr>\n",
       "      <th>3</th>\n",
       "      <td>Ice Slide</td>\n",
       "      <td>417</td>\n",
       "      <td>215.717308</td>\n",
       "    </tr>\n",
       "  </tbody>\n",
       "</table>\n",
       "</div>"
      ],
      "text/plain": [
       "        Photo_Name  Total Conversion  Expected Conversion\n",
       "0         Bonhomme               374           193.473077\n",
       "1        Elf Point               387           200.198077\n",
       "2  Harbin Ice City               382           197.611538\n",
       "3        Ice Slide               417           215.717308"
      ]
     },
     "execution_count": 50,
     "metadata": {},
     "output_type": "execute_result"
    }
   ],
   "source": [
    "exp_count = pd.DataFrame(expected_counts)\n",
    "exp_count.head()"
   ]
  },
  {
   "cell_type": "markdown",
   "id": "080ae471-0b60-4a84-84ab-a5cd95118b48",
   "metadata": {},
   "source": [
    "The table represents three columns: Photo Name, Total Conversion, and Expected Conversion. In order to calculate Chi-square Observed Conversion Column is necessary. It represents the **actual** number of conversions for each photo."
   ]
  },
  {
   "cell_type": "code",
   "execution_count": 52,
   "id": "f61077f3-921e-453e-a4fb-e45d80860ef9",
   "metadata": {},
   "outputs": [],
   "source": [
    "actual_B = ph[(ph['Photo_Name'] == 'Bonhomme') & (ph['Conversion'] == 1)].shape[0]\n",
    "actual_E = ph[(ph['Photo_Name'] == 'Elf Point') & (ph['Conversion'] == 1)].shape[0]\n",
    "actual_H = ph[(ph['Photo_Name'] == 'Harbin Ice City') & (ph['Conversion'] == 1)].shape[0]\n",
    "actual_I = ph[(ph['Photo_Name'] == 'Ice Slide') & (ph['Conversion'] == 1)].shape[0]"
   ]
  },
  {
   "cell_type": "code",
   "execution_count": 53,
   "id": "3764303f-1e67-4098-aa4e-ad512bcc5a4f",
   "metadata": {},
   "outputs": [
    {
     "data": {
      "text/plain": [
       "150"
      ]
     },
     "execution_count": 53,
     "metadata": {},
     "output_type": "execute_result"
    }
   ],
   "source": [
    "actual_B"
   ]
  },
  {
   "cell_type": "code",
   "execution_count": 54,
   "id": "f7d08ad3-92b3-47b3-9fc0-eb8c8bfe023c",
   "metadata": {},
   "outputs": [],
   "source": [
    "observed_values = [actual_B, actual_E, actual_H, actual_I]\n",
    "expected_values = [expected_B, expected_E, expected_H, expected_I]"
   ]
  },
  {
   "cell_type": "code",
   "execution_count": 55,
   "id": "f839a9da-0a66-4ba3-b470-97afc3baf8f6",
   "metadata": {},
   "outputs": [],
   "source": [
    "chi_square_stat, p_value = stats.chisquare(f_obs=observed_values, f_exp=expected_values)\n"
   ]
  },
  {
   "cell_type": "code",
   "execution_count": 56,
   "id": "03a40ad8-e5b6-422b-8fb3-7a6cbb27bccc",
   "metadata": {},
   "outputs": [],
   "source": [
    "chi_square_results = {\n",
    "    'Photo Name': ['Bonhomme', 'Elf Point', 'Harbin Ice City', 'Ice Slide'],\n",
    "    'Observed Conversion': observed_values,\n",
    "    'Expected Conversion': expected_values,\n",
    "    'Chi-Square Statistic': [chi_square_stat, chi_square_stat, chi_square_stat, chi_square_stat],\n",
    "    'p-value': [p_value, p_value, p_value, p_value]\n",
    "}"
   ]
  },
  {
   "cell_type": "code",
   "execution_count": 57,
   "id": "473c07ee-830e-44b5-971b-5a8eb7fb75e0",
   "metadata": {},
   "outputs": [
    {
     "data": {
      "text/html": [
       "<div>\n",
       "<style scoped>\n",
       "    .dataframe tbody tr th:only-of-type {\n",
       "        vertical-align: middle;\n",
       "    }\n",
       "\n",
       "    .dataframe tbody tr th {\n",
       "        vertical-align: top;\n",
       "    }\n",
       "\n",
       "    .dataframe thead th {\n",
       "        text-align: right;\n",
       "    }\n",
       "</style>\n",
       "<table border=\"1\" class=\"dataframe\">\n",
       "  <thead>\n",
       "    <tr style=\"text-align: right;\">\n",
       "      <th></th>\n",
       "      <th>Photo Name</th>\n",
       "      <th>Observed Conversion</th>\n",
       "      <th>Expected Conversion</th>\n",
       "      <th>Chi-Square Statistic</th>\n",
       "      <th>p-value</th>\n",
       "    </tr>\n",
       "  </thead>\n",
       "  <tbody>\n",
       "    <tr>\n",
       "      <th>0</th>\n",
       "      <td>Bonhomme</td>\n",
       "      <td>150</td>\n",
       "      <td>193.473077</td>\n",
       "      <td>32.889473</td>\n",
       "      <td>3.398281e-07</td>\n",
       "    </tr>\n",
       "    <tr>\n",
       "      <th>1</th>\n",
       "      <td>Elf Point</td>\n",
       "      <td>222</td>\n",
       "      <td>200.198077</td>\n",
       "      <td>32.889473</td>\n",
       "      <td>3.398281e-07</td>\n",
       "    </tr>\n",
       "    <tr>\n",
       "      <th>2</th>\n",
       "      <td>Harbin Ice City</td>\n",
       "      <td>163</td>\n",
       "      <td>197.611538</td>\n",
       "      <td>32.889473</td>\n",
       "      <td>3.398281e-07</td>\n",
       "    </tr>\n",
       "    <tr>\n",
       "      <th>3</th>\n",
       "      <td>Ice Slide</td>\n",
       "      <td>272</td>\n",
       "      <td>215.717308</td>\n",
       "      <td>32.889473</td>\n",
       "      <td>3.398281e-07</td>\n",
       "    </tr>\n",
       "  </tbody>\n",
       "</table>\n",
       "</div>"
      ],
      "text/plain": [
       "        Photo Name  Observed Conversion  Expected Conversion  \\\n",
       "0         Bonhomme                  150           193.473077   \n",
       "1        Elf Point                  222           200.198077   \n",
       "2  Harbin Ice City                  163           197.611538   \n",
       "3        Ice Slide                  272           215.717308   \n",
       "\n",
       "   Chi-Square Statistic       p-value  \n",
       "0             32.889473  3.398281e-07  \n",
       "1             32.889473  3.398281e-07  \n",
       "2             32.889473  3.398281e-07  \n",
       "3             32.889473  3.398281e-07  "
      ]
     },
     "execution_count": 57,
     "metadata": {},
     "output_type": "execute_result"
    }
   ],
   "source": [
    "chi_square_results_df = pd.DataFrame(chi_square_results)\n",
    "chi_square_results_df.head()"
   ]
  },
  {
   "cell_type": "markdown",
   "id": "785dbf4e-578a-4fce-9578-6dbb84dd2927",
   "metadata": {},
   "source": [
    "The p-value is significantly lower than 0.05, so the Null Hypothesis is rejected. It means that there is significant difference in the conversion rates between the four photos. Therefore, the photo choice does affect whether recipients decide to take the desired action (such as signing up for email updates), and the differences in conversions are unlikely to be due to random chance.\r",
    "\r\n"
   ]
  },
  {
   "cell_type": "markdown",
   "id": "efbbaec9-81e2-40ca-afcb-985e9a05bc97",
   "metadata": {},
   "source": [
    "# Final Decision"
   ]
  },
  {
   "cell_type": "markdown",
   "id": "64301028-405c-4651-925c-e5f77a2a943a",
   "metadata": {},
   "source": [
    "Based on the statistical analysis, the final decision is to choose 'Ice Slide' for the 2024 Enchanted Winter Carnival marketing campaign.\n",
    "\n",
    "Chi-Square Test: The chi-square test indicated significant differences in conversion rates across the four photos. 'Ice Slide' achieved the highest observed conversion rate, suggesting that it was the most effective in encouraging recipients to take the desired action (signing up for email updates). The Observed value (272) for 'Ice Slide' is much higher than its Expected value (216), further supporting its effectiveness.\n",
    "\n",
    "Impact Metric: Although the Impact metric did not show the most significant differences when analyzed with t-tests,'Ice Slide' still demonstrated a higher conversion rate. This supports its selection as the most effective photo. Additionally, \"Ice Slide\" had high engagement time and ratings, meaning the photo not only captured the recipients' attention for a longer duration but also received positive feedback.\n",
    "\n",
    "Thus, 'Ice Slide' emerges as the most successful photo in driving conversions and engagement, making it the best choice for Lobster Land's marketing campaign."
   ]
  },
  {
   "cell_type": "code",
   "execution_count": null,
   "id": "2319c2b0-718e-468c-9b32-6ee3adf93336",
   "metadata": {},
   "outputs": [],
   "source": []
  }
 ],
 "metadata": {
  "kernelspec": {
   "display_name": "Python 3 (ipykernel)",
   "language": "python",
   "name": "python3"
  },
  "language_info": {
   "codemirror_mode": {
    "name": "ipython",
    "version": 3
   },
   "file_extension": ".py",
   "mimetype": "text/x-python",
   "name": "python",
   "nbconvert_exporter": "python",
   "pygments_lexer": "ipython3",
   "version": "3.12.4"
  }
 },
 "nbformat": 4,
 "nbformat_minor": 5
}
