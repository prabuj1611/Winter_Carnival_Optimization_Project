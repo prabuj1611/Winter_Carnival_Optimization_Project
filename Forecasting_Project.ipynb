{
  "cells": [
    {
      "cell_type": "markdown",
      "source": [
        "**AD 654 Final Project Fall 2024**\n",
        "\n",
        "**Team: Version 5.0**"
      ],
      "metadata": {
        "id": "1qRcK0OnUYKC"
      }
    },
    {
      "cell_type": "markdown",
      "source": [
        "# **Forecasting Earnings Per Share DIS**"
      ],
      "metadata": {
        "id": "6WtZwf3tUXw0"
      }
    },
    {
      "cell_type": "markdown",
      "source": [
        "**Aim**\n",
        "\n",
        "*To forecast Disney's Earnings Per Share (EPS) for Fiscal Year 2025 using historical data and Python-based forecasting tools, capturing recent trends and providing actionable insights for stakeholders.*"
      ],
      "metadata": {
        "id": "yh2ZTGX9X8Xx"
      }
    },
    {
      "cell_type": "code",
      "source": [
        "import pandas as pd\n",
        "from statsmodels.tsa.holtwinters import SimpleExpSmoothing\n",
        "import matplotlib.pyplot as plt\n",
        "import numpy as np\n",
        "import seaborn as sns\n",
        "import matplotlib.dates as mdates\n",
        "import statsmodels.formula.api as smf\n",
        "from statsmodels.tsa.holtwinters import ExponentialSmoothing"
      ],
      "metadata": {
        "id": "97L7WaH3I5Fv"
      },
      "execution_count": null,
      "outputs": []
    },
    {
      "cell_type": "code",
      "source": [
        "# File path\n",
        "eps_df = pd.read_csv('/content/EPS DIS.csv', index_col= 'YEAR', parse_dates=True)"
      ],
      "metadata": {
        "id": "cFNAp72NJhwA"
      },
      "execution_count": null,
      "outputs": []
    },
    {
      "cell_type": "code",
      "source": [
        "eps_df.head()"
      ],
      "metadata": {
        "id": "8Nj2lobSdzEt",
        "colab": {
          "base_uri": "https://localhost:8080/",
          "height": 237
        },
        "outputId": "2d7db8f0-9da2-44ab-f0fc-274c37f2a791"
      },
      "execution_count": null,
      "outputs": [
        {
          "output_type": "execute_result",
          "data": {
            "text/plain": [
              "             EPS\n",
              "YEAR            \n",
              "2024-09-30  2.72\n",
              "2023-09-30  1.29\n",
              "2022-09-30  1.72\n",
              "2021-09-30  1.09\n",
              "2020-09-30 -1.58"
            ],
            "text/html": [
              "\n",
              "  <div id=\"df-4e8becdf-1e06-417c-b2e3-936e19e572d4\" class=\"colab-df-container\">\n",
              "    <div>\n",
              "<style scoped>\n",
              "    .dataframe tbody tr th:only-of-type {\n",
              "        vertical-align: middle;\n",
              "    }\n",
              "\n",
              "    .dataframe tbody tr th {\n",
              "        vertical-align: top;\n",
              "    }\n",
              "\n",
              "    .dataframe thead th {\n",
              "        text-align: right;\n",
              "    }\n",
              "</style>\n",
              "<table border=\"1\" class=\"dataframe\">\n",
              "  <thead>\n",
              "    <tr style=\"text-align: right;\">\n",
              "      <th></th>\n",
              "      <th>EPS</th>\n",
              "    </tr>\n",
              "    <tr>\n",
              "      <th>YEAR</th>\n",
              "      <th></th>\n",
              "    </tr>\n",
              "  </thead>\n",
              "  <tbody>\n",
              "    <tr>\n",
              "      <th>2024-09-30</th>\n",
              "      <td>2.72</td>\n",
              "    </tr>\n",
              "    <tr>\n",
              "      <th>2023-09-30</th>\n",
              "      <td>1.29</td>\n",
              "    </tr>\n",
              "    <tr>\n",
              "      <th>2022-09-30</th>\n",
              "      <td>1.72</td>\n",
              "    </tr>\n",
              "    <tr>\n",
              "      <th>2021-09-30</th>\n",
              "      <td>1.09</td>\n",
              "    </tr>\n",
              "    <tr>\n",
              "      <th>2020-09-30</th>\n",
              "      <td>-1.58</td>\n",
              "    </tr>\n",
              "  </tbody>\n",
              "</table>\n",
              "</div>\n",
              "    <div class=\"colab-df-buttons\">\n",
              "\n",
              "  <div class=\"colab-df-container\">\n",
              "    <button class=\"colab-df-convert\" onclick=\"convertToInteractive('df-4e8becdf-1e06-417c-b2e3-936e19e572d4')\"\n",
              "            title=\"Convert this dataframe to an interactive table.\"\n",
              "            style=\"display:none;\">\n",
              "\n",
              "  <svg xmlns=\"http://www.w3.org/2000/svg\" height=\"24px\" viewBox=\"0 -960 960 960\">\n",
              "    <path d=\"M120-120v-720h720v720H120Zm60-500h600v-160H180v160Zm220 220h160v-160H400v160Zm0 220h160v-160H400v160ZM180-400h160v-160H180v160Zm440 0h160v-160H620v160ZM180-180h160v-160H180v160Zm440 0h160v-160H620v160Z\"/>\n",
              "  </svg>\n",
              "    </button>\n",
              "\n",
              "  <style>\n",
              "    .colab-df-container {\n",
              "      display:flex;\n",
              "      gap: 12px;\n",
              "    }\n",
              "\n",
              "    .colab-df-convert {\n",
              "      background-color: #E8F0FE;\n",
              "      border: none;\n",
              "      border-radius: 50%;\n",
              "      cursor: pointer;\n",
              "      display: none;\n",
              "      fill: #1967D2;\n",
              "      height: 32px;\n",
              "      padding: 0 0 0 0;\n",
              "      width: 32px;\n",
              "    }\n",
              "\n",
              "    .colab-df-convert:hover {\n",
              "      background-color: #E2EBFA;\n",
              "      box-shadow: 0px 1px 2px rgba(60, 64, 67, 0.3), 0px 1px 3px 1px rgba(60, 64, 67, 0.15);\n",
              "      fill: #174EA6;\n",
              "    }\n",
              "\n",
              "    .colab-df-buttons div {\n",
              "      margin-bottom: 4px;\n",
              "    }\n",
              "\n",
              "    [theme=dark] .colab-df-convert {\n",
              "      background-color: #3B4455;\n",
              "      fill: #D2E3FC;\n",
              "    }\n",
              "\n",
              "    [theme=dark] .colab-df-convert:hover {\n",
              "      background-color: #434B5C;\n",
              "      box-shadow: 0px 1px 3px 1px rgba(0, 0, 0, 0.15);\n",
              "      filter: drop-shadow(0px 1px 2px rgba(0, 0, 0, 0.3));\n",
              "      fill: #FFFFFF;\n",
              "    }\n",
              "  </style>\n",
              "\n",
              "    <script>\n",
              "      const buttonEl =\n",
              "        document.querySelector('#df-4e8becdf-1e06-417c-b2e3-936e19e572d4 button.colab-df-convert');\n",
              "      buttonEl.style.display =\n",
              "        google.colab.kernel.accessAllowed ? 'block' : 'none';\n",
              "\n",
              "      async function convertToInteractive(key) {\n",
              "        const element = document.querySelector('#df-4e8becdf-1e06-417c-b2e3-936e19e572d4');\n",
              "        const dataTable =\n",
              "          await google.colab.kernel.invokeFunction('convertToInteractive',\n",
              "                                                    [key], {});\n",
              "        if (!dataTable) return;\n",
              "\n",
              "        const docLinkHtml = 'Like what you see? Visit the ' +\n",
              "          '<a target=\"_blank\" href=https://colab.research.google.com/notebooks/data_table.ipynb>data table notebook</a>'\n",
              "          + ' to learn more about interactive tables.';\n",
              "        element.innerHTML = '';\n",
              "        dataTable['output_type'] = 'display_data';\n",
              "        await google.colab.output.renderOutput(dataTable, element);\n",
              "        const docLink = document.createElement('div');\n",
              "        docLink.innerHTML = docLinkHtml;\n",
              "        element.appendChild(docLink);\n",
              "      }\n",
              "    </script>\n",
              "  </div>\n",
              "\n",
              "\n",
              "<div id=\"df-6a0ba84b-b0bc-4043-9b00-a00b3c5428c6\">\n",
              "  <button class=\"colab-df-quickchart\" onclick=\"quickchart('df-6a0ba84b-b0bc-4043-9b00-a00b3c5428c6')\"\n",
              "            title=\"Suggest charts\"\n",
              "            style=\"display:none;\">\n",
              "\n",
              "<svg xmlns=\"http://www.w3.org/2000/svg\" height=\"24px\"viewBox=\"0 0 24 24\"\n",
              "     width=\"24px\">\n",
              "    <g>\n",
              "        <path d=\"M19 3H5c-1.1 0-2 .9-2 2v14c0 1.1.9 2 2 2h14c1.1 0 2-.9 2-2V5c0-1.1-.9-2-2-2zM9 17H7v-7h2v7zm4 0h-2V7h2v10zm4 0h-2v-4h2v4z\"/>\n",
              "    </g>\n",
              "</svg>\n",
              "  </button>\n",
              "\n",
              "<style>\n",
              "  .colab-df-quickchart {\n",
              "      --bg-color: #E8F0FE;\n",
              "      --fill-color: #1967D2;\n",
              "      --hover-bg-color: #E2EBFA;\n",
              "      --hover-fill-color: #174EA6;\n",
              "      --disabled-fill-color: #AAA;\n",
              "      --disabled-bg-color: #DDD;\n",
              "  }\n",
              "\n",
              "  [theme=dark] .colab-df-quickchart {\n",
              "      --bg-color: #3B4455;\n",
              "      --fill-color: #D2E3FC;\n",
              "      --hover-bg-color: #434B5C;\n",
              "      --hover-fill-color: #FFFFFF;\n",
              "      --disabled-bg-color: #3B4455;\n",
              "      --disabled-fill-color: #666;\n",
              "  }\n",
              "\n",
              "  .colab-df-quickchart {\n",
              "    background-color: var(--bg-color);\n",
              "    border: none;\n",
              "    border-radius: 50%;\n",
              "    cursor: pointer;\n",
              "    display: none;\n",
              "    fill: var(--fill-color);\n",
              "    height: 32px;\n",
              "    padding: 0;\n",
              "    width: 32px;\n",
              "  }\n",
              "\n",
              "  .colab-df-quickchart:hover {\n",
              "    background-color: var(--hover-bg-color);\n",
              "    box-shadow: 0 1px 2px rgba(60, 64, 67, 0.3), 0 1px 3px 1px rgba(60, 64, 67, 0.15);\n",
              "    fill: var(--button-hover-fill-color);\n",
              "  }\n",
              "\n",
              "  .colab-df-quickchart-complete:disabled,\n",
              "  .colab-df-quickchart-complete:disabled:hover {\n",
              "    background-color: var(--disabled-bg-color);\n",
              "    fill: var(--disabled-fill-color);\n",
              "    box-shadow: none;\n",
              "  }\n",
              "\n",
              "  .colab-df-spinner {\n",
              "    border: 2px solid var(--fill-color);\n",
              "    border-color: transparent;\n",
              "    border-bottom-color: var(--fill-color);\n",
              "    animation:\n",
              "      spin 1s steps(1) infinite;\n",
              "  }\n",
              "\n",
              "  @keyframes spin {\n",
              "    0% {\n",
              "      border-color: transparent;\n",
              "      border-bottom-color: var(--fill-color);\n",
              "      border-left-color: var(--fill-color);\n",
              "    }\n",
              "    20% {\n",
              "      border-color: transparent;\n",
              "      border-left-color: var(--fill-color);\n",
              "      border-top-color: var(--fill-color);\n",
              "    }\n",
              "    30% {\n",
              "      border-color: transparent;\n",
              "      border-left-color: var(--fill-color);\n",
              "      border-top-color: var(--fill-color);\n",
              "      border-right-color: var(--fill-color);\n",
              "    }\n",
              "    40% {\n",
              "      border-color: transparent;\n",
              "      border-right-color: var(--fill-color);\n",
              "      border-top-color: var(--fill-color);\n",
              "    }\n",
              "    60% {\n",
              "      border-color: transparent;\n",
              "      border-right-color: var(--fill-color);\n",
              "    }\n",
              "    80% {\n",
              "      border-color: transparent;\n",
              "      border-right-color: var(--fill-color);\n",
              "      border-bottom-color: var(--fill-color);\n",
              "    }\n",
              "    90% {\n",
              "      border-color: transparent;\n",
              "      border-bottom-color: var(--fill-color);\n",
              "    }\n",
              "  }\n",
              "</style>\n",
              "\n",
              "  <script>\n",
              "    async function quickchart(key) {\n",
              "      const quickchartButtonEl =\n",
              "        document.querySelector('#' + key + ' button');\n",
              "      quickchartButtonEl.disabled = true;  // To prevent multiple clicks.\n",
              "      quickchartButtonEl.classList.add('colab-df-spinner');\n",
              "      try {\n",
              "        const charts = await google.colab.kernel.invokeFunction(\n",
              "            'suggestCharts', [key], {});\n",
              "      } catch (error) {\n",
              "        console.error('Error during call to suggestCharts:', error);\n",
              "      }\n",
              "      quickchartButtonEl.classList.remove('colab-df-spinner');\n",
              "      quickchartButtonEl.classList.add('colab-df-quickchart-complete');\n",
              "    }\n",
              "    (() => {\n",
              "      let quickchartButtonEl =\n",
              "        document.querySelector('#df-6a0ba84b-b0bc-4043-9b00-a00b3c5428c6 button');\n",
              "      quickchartButtonEl.style.display =\n",
              "        google.colab.kernel.accessAllowed ? 'block' : 'none';\n",
              "    })();\n",
              "  </script>\n",
              "</div>\n",
              "\n",
              "    </div>\n",
              "  </div>\n"
            ],
            "application/vnd.google.colaboratory.intrinsic+json": {
              "type": "dataframe",
              "variable_name": "eps_df",
              "summary": "{\n  \"name\": \"eps_df\",\n  \"rows\": 16,\n  \"fields\": [\n    {\n      \"column\": \"YEAR\",\n      \"properties\": {\n        \"dtype\": \"date\",\n        \"min\": \"2009-08-30 00:00:00\",\n        \"max\": \"2024-09-30 00:00:00\",\n        \"num_unique_values\": 16,\n        \"samples\": [\n          \"2024-09-30 00:00:00\",\n          \"2023-09-30 00:00:00\",\n          \"2019-09-30 00:00:00\"\n        ],\n        \"semantic_type\": \"\",\n        \"description\": \"\"\n      }\n    },\n    {\n      \"column\": \"EPS\",\n      \"properties\": {\n        \"dtype\": \"number\",\n        \"std\": 2.4767357549807367,\n        \"min\": -1.58,\n        \"max\": 8.36,\n        \"num_unique_values\": 16,\n        \"samples\": [\n          2.72,\n          1.29,\n          6.64\n        ],\n        \"semantic_type\": \"\",\n        \"description\": \"\"\n      }\n    }\n  ]\n}"
            }
          },
          "metadata": {},
          "execution_count": 26
        }
      ]
    },
    {
      "cell_type": "code",
      "source": [
        "eps_df.info()"
      ],
      "metadata": {
        "colab": {
          "base_uri": "https://localhost:8080/"
        },
        "id": "6_JOwUdUfvUm",
        "outputId": "3bd6ab79-c1b5-47bf-fbba-f823b9b4ff60"
      },
      "execution_count": null,
      "outputs": [
        {
          "output_type": "stream",
          "name": "stdout",
          "text": [
            "<class 'pandas.core.frame.DataFrame'>\n",
            "DatetimeIndex: 16 entries, 2024-09-30 to 2009-08-30\n",
            "Data columns (total 1 columns):\n",
            " #   Column  Non-Null Count  Dtype  \n",
            "---  ------  --------------  -----  \n",
            " 0   EPS     16 non-null     float64\n",
            "dtypes: float64(1)\n",
            "memory usage: 256.0 bytes\n"
          ]
        }
      ]
    },
    {
      "cell_type": "code",
      "source": [
        "# Check the dataset\n",
        "print(eps_df.describe())"
      ],
      "metadata": {
        "id": "FoFRjDqJJzHH",
        "outputId": "b9ab331c-1799-4d26-cdac-24d6aae23721",
        "colab": {
          "base_uri": "https://localhost:8080/"
        }
      },
      "execution_count": null,
      "outputs": [
        {
          "output_type": "stream",
          "name": "stdout",
          "text": [
            "             EPS\n",
            "count  16.000000\n",
            "mean    3.352500\n",
            "std     2.476736\n",
            "min    -1.580000\n",
            "25%     1.750000\n",
            "50%     2.925000\n",
            "75%     5.097500\n",
            "max     8.360000\n"
          ]
        }
      ]
    },
    {
      "cell_type": "code",
      "source": [
        "# Sort the index in ascending order\n",
        "eps_df = eps_df.sort_index()\n",
        "\n",
        "# Assign a yearly frequency to the index\n",
        "eps_df.index = eps_df.index.to_period('Y').to_timestamp()"
      ],
      "metadata": {
        "id": "t00Yr_Hfggc2"
      },
      "execution_count": null,
      "outputs": []
    },
    {
      "cell_type": "markdown",
      "source": [
        "**Simple Exponential Smoothing (SES):**\n",
        "\n",
        "*Works well for data with no clear trend or seasonality, especially with a small dataset.*\n",
        "\n",
        "*Simple to interpret and effective for short-term forecasts.*"
      ],
      "metadata": {
        "id": "U4aFBvKSLCu7"
      }
    },
    {
      "cell_type": "code",
      "source": [
        "# Fit Simple Exponential Smoothing (SES) model\n",
        "ses_model = SimpleExpSmoothing(eps_df[\"EPS\"]).fit()"
      ],
      "metadata": {
        "id": "G2VyJVHZJ2Ci"
      },
      "execution_count": null,
      "outputs": []
    },
    {
      "cell_type": "code",
      "source": [
        "# Forecast EPS for 2025\n",
        "forecast = ses_model.forecast(steps=1)\n",
        "forecasted_eps_2025 = forecast.iloc[0]"
      ],
      "metadata": {
        "id": "BiH6re2sJ4sr"
      },
      "execution_count": null,
      "outputs": []
    },
    {
      "cell_type": "code",
      "source": [
        "print(f\"Forecasted EPS for 2025 using SES: ${forecasted_eps_2025:.2f}\")\n",
        "# Plot the historical EPS and the forecast\n",
        "plt.figure(figsize=(9, 5))\n",
        "plt.plot(eps_df, label=\"Historical EPS\", marker=\"o\")\n",
        "plt.axhline(y=forecasted_eps_2025, color=\"r\", linestyle=\"--\", label=\"Forecasted EPS (2025)\")\n",
        "plt.title(\"Disney EPS Forecast (2025) using SES\")\n",
        "plt.xlabel(\"Year\")\n",
        "plt.ylabel(\"EPS  ($)\")\n",
        "plt.legend()\n",
        "plt.grid()\n",
        "plt.show()"
      ],
      "metadata": {
        "id": "YDjBUTIYBi4j",
        "outputId": "2085ca12-6f0f-4bdb-f06f-9505164c6d2f",
        "colab": {
          "base_uri": "https://localhost:8080/",
          "height": 504
        }
      },
      "execution_count": null,
      "outputs": [
        {
          "output_type": "stream",
          "name": "stdout",
          "text": [
            "Forecasted EPS for 2025 using SES: $2.36\n"
          ]
        },
        {
          "output_type": "display_data",
          "data": {
            "text/plain": [
              "<Figure size 900x500 with 1 Axes>"
            ],
            "image/png": "[encoded data removed]"
          },
          "metadata": {}
        }
      ]
    },
    {
      "cell_type": "markdown",
      "source": [
        "**Forecasted EPS for 2025 using Holt's Linear Trend**"
      ],
      "metadata": {
        "id": "hwTCi-_rNioV"
      }
    },
    {
      "cell_type": "code",
      "source": [
        "# Ensure the data is sorted and set up for time series\n",
        "eps_df1 = eps_df.sort_index()\n",
        "eps_df1.index = eps_df1.index.to_period('Y').to_timestamp()\n",
        "eps_df1 = eps_df1.loc['2020':]"
      ],
      "metadata": {
        "id": "_U35G5cbhUbD"
      },
      "execution_count": null,
      "outputs": []
    },
    {
      "cell_type": "code",
      "source": [
        "# Fit Holt's Linear Trend Model on the entire dataset starting from 2020\n",
        "holt_model = ExponentialSmoothing(eps_df1[\"EPS\"], trend=\"add\", seasonal=None).fit()"
      ],
      "metadata": {
        "id": "p5SPNjfthUXd"
      },
      "execution_count": null,
      "outputs": []
    },
    {
      "cell_type": "code",
      "source": [
        "# Forecast EPS for 2025\n",
        "forecast = holt_model.forecast(steps=1)\n",
        "forecasted_eps_2025 = forecast.iloc[0]\n",
        "print(f\"Forecasted EPS for 2025 using Holt's Linear Trend: ${forecasted_eps_2025:.2f}\")"
      ],
      "metadata": {
        "id": "BqXCWvbJhUUu",
        "colab": {
          "base_uri": "https://localhost:8080/"
        },
        "outputId": "ea08853f-7523-4b8a-a60b-3e2b11fe8de8"
      },
      "execution_count": null,
      "outputs": [
        {
          "output_type": "stream",
          "name": "stdout",
          "text": [
            "Forecasted EPS for 2025 using Holt's Linear Trend: $3.69\n"
          ]
        }
      ]
    },
    {
      "cell_type": "code",
      "source": [
        "# Filter the data for years 2020 to 2024\n",
        "filtered_eps_df = eps_df[\"2020-01-01\":\"2024-12-31\"]\n",
        "\n",
        "# Assuming 'forecasted_eps_2025' is the forecasted value for 2025\n",
        "forecasted_years = [\"2025\"]\n",
        "forecasted_values = [forecasted_eps_2025]\n",
        "\n",
        "# Plot the filtered historical data\n",
        "plt.figure(figsize=(9, 4))\n",
        "plt.plot(filtered_eps_df.index, filtered_eps_df[\"EPS\"], label=\"Historical EPS (2020-2024)\", marker=\"o\", color=\"Green\", linewidth=2)\n",
        "\n",
        "# Extend the forecasted values into the plot\n",
        "forecast_index = [np.datetime64(\"2025\")]\n",
        "plt.plot(forecast_index, forecasted_values, label=\"Forecasted EPS (2025)\", marker=\"*\", color=\"red\", markersize=10)\n",
        "\n",
        "# Highlight the forecasted area\n",
        "plt.axvspan(filtered_eps_df.index[-1], forecast_index[0], color=\"red\", alpha=0.2, label=\"Forecast Area\")\n",
        "\n",
        "# Title and labels\n",
        "plt.title(\"EPS Forecast: Holt's Linear Trend (2020-25)\", fontsize=14)\n",
        "plt.xlabel(\"Year\", fontsize=12)\n",
        "plt.ylabel(\"EPS  ($)\", fontsize=12)\n",
        "\n",
        "# Grid and legend\n",
        "plt.grid(alpha=0.5)\n",
        "plt.legend(fontsize=10, loc=\"upper left\")\n",
        "\n",
        "# Adding a note or annotation\n",
        "plt.annotate(f\"Forecast: {forecasted_eps_2025:.3f}\",\n",
        "             xy=(forecast_index[0], forecasted_eps_2025),\n",
        "             xytext=(forecast_index[0] - np.timedelta64(1, 'Y'), forecasted_eps_2025 + 0.5),\n",
        "             arrowprops=dict(facecolor='black', arrowstyle=\"->\"),\n",
        "             fontsize=10, color=\"darkred\")\n",
        "print(f\"Forecasted EPS for 2025 using Holt's Linear Trend: ${forecasted_eps_2025:.2f}\")\n",
        "# Show the plot\n",
        "plt.tight_layout()\n",
        "plt.show()"
      ],
      "metadata": {
        "id": "BEpU12ruJZox",
        "colab": {
          "base_uri": "https://localhost:8080/",
          "height": 423
        },
        "outputId": "03a93370-e0a6-4070-ccab-17cf7b2bcd71"
      },
      "execution_count": null,
      "outputs": [
        {
          "output_type": "stream",
          "name": "stdout",
          "text": [
            "Forecasted EPS for 2025 using Holt's Linear Trend: $3.69\n"
          ]
        },
        {
          "output_type": "display_data",
          "data": {
            "text/plain": [
              "<Figure size 900x400 with 1 Axes>"
            ],
            "image/png": "[encoded data removed]"
          },
          "metadata": {}
        }
      ]
    },
    {
      "cell_type": "markdown",
      "source": [
        "**In this analysis, we opted for Holt's Linear Trend Forecast over the Simple Exponential Smoothing (SES) method for the following reasons:**\n",
        "\n",
        "\n",
        "**Nature of the Data:**\n",
        "\n",
        "*Holt's Linear Trend is specifically designed for time series data that exhibits a clear trend over time. The earnings per share (EPS) data from 2020 to 2024 shows an upward trend, making Holt's model better suited for capturing and extending this pattern.*\n",
        "\n",
        "*On the other hand, SES assumes no underlying trend in the data and is best for stationary time series. While SES provides a basic forecast, it fails to capture the upward trajectory observed in our data, leading to a less dynamic and less accurate prediction.*\n",
        "\n",
        "**Handling of Drastic Changes (COVID-19 Impact):**\n",
        "\n",
        "*The significant drop in EPS during 2020 is attributed to the global economic impact of the COVID-19 pandemic. This event caused substantial disruptions across industries, including Disney. The recovery trend observed in the years following 2020 (2021-2024) reflects the company's resilience and strategic recovery efforts.*\n",
        "\n",
        "*By focusing on the 2020-2024 period for Holt's Linear Trend, the forecast leverages the most relevant and recent recovery trajectory, avoiding distortion from earlier pre-COVID years, where the EPS followed a different growth pattern.*\n",
        "\n",
        "**Improved Forecasting Accuracy:**\n",
        "\n",
        "Holt's Linear Trend incorporates both level and trend components, allowing the model to account for the overall direction and rate of change in the EPS. This makes the forecast more accurate and reflective of the post-pandemic growth dynamics.\n",
        "\n",
        "*SES, on the other hand, does not capture this recovery trend, leading to an undervalued prediction of 2.36 usd for 2025 compared to Holt's Linear Trend forecast of  3.69 usd.*\n",
        "\n",
        "**Selection of 2020 to 2024:**\n",
        "\n",
        "*The decision to focus on the 2020-2024 period ensures that the forecast aligns with recent trends and avoids skewing results with pre-pandemic data, which may not accurately represent the current business environment.\n",
        "Data from earlier years (pre-2020) reflects a different market and operational context, where the drastic fall in EPS due to COVID-19 had not yet occurred. Using this period would dilute the accuracy and relevance of the forecast.*\n",
        "\n",
        "**Interpretability and Relevance:**\n",
        "\n",
        "*Holt's Linear Trend forecast predicts an EPS for 2025 of $3.69, which aligns with the observed post-pandemic growth trajectory. This is a more realistic projection compared to SES, which underestimates the EPS due to its inability to account for trends.*\n",
        "\n",
        "*In conclusion, Holt's Linear Trend is chosen for its ability to effectively capture the upward trajectory of EPS following the COVID-19 pandemic while focusing on the 2020-2024 recovery period. This ensures a realistic and actionable forecast for 2025, accounting for recent trends and external economic impacts.*"
      ],
      "metadata": {
        "id": "YSpDSOPNRujI"
      }
    }
  ],
  "metadata": {
    "colab": {
      "provenance": []
    },
    "kernelspec": {
      "display_name": "Python 3",
      "name": "python3"
    }
  },
  "nbformat": 4,
  "nbformat_minor": 0
}